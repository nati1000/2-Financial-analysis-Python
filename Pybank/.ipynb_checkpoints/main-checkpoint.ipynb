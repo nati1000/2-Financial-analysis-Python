{
 "cells": [
  {
   "cell_type": "code",
   "execution_count": 1,
   "metadata": {},
   "outputs": [],
   "source": [
    "# Goal: by using information provided in budget_data.csv file perform financial analysis to determine:\n",
    "  \n",
    "#The total number of months included in the dataset. \n",
    "#The net total amount of Profit/Losses over the entire period. \n",
    "#The average of the changes in Profit/Losses over the entire period.\n",
    "#The greatest increase in profits (date and amount) over the entire period.\n",
    "#The greatest decrease in losses (date and amount) over the entire period."
   ]
  },
  {
   "cell_type": "code",
   "execution_count": 2,
   "metadata": {},
   "outputs": [],
   "source": [
    "# Import the csv and pathlib libraries\n",
    "import csv\n",
    "from pathlib import Path"
   ]
  },
  {
   "cell_type": "code",
   "execution_count": 3,
   "metadata": {},
   "outputs": [],
   "source": [
    "# Set the file path\n",
    "csvpath = Path('../PyBank/budget_data.csv')"
   ]
  },
  {
   "cell_type": "code",
   "execution_count": 13,
   "metadata": {
    "scrolled": true
   },
   "outputs": [
    {
     "name": "stdout",
     "output_type": "stream",
     "text": [
      "<class '_io.TextIOWrapper'>\n",
      "<class '_csv.reader'>\n",
      "['Date', 'Profit/Losses'] <---- HEADER\n",
      "['Feb-2010', '984655']\n",
      "['Mar-2010', '322013']\n",
      "['Apr-2010', '-69417']\n",
      "['May-2010', '310503']\n",
      "['Jun-2010', '522857']\n",
      "['Jul-2010', '1033096']\n",
      "['Aug-2010', '604885']\n",
      "['Sep-2010', '-216386']\n",
      "['Oct-2010', '477532']\n",
      "['Nov-2010', '893810']\n",
      "['Dec-2010', '-80353']\n",
      "['Jan-2011', '779806']\n",
      "['Feb-2011', '-335203']\n",
      "['Mar-2011', '697845']\n",
      "['Apr-2011', '793163']\n",
      "['May-2011', '485070']\n",
      "['Jun-2011', '584122']\n",
      "['Jul-2011', '62729']\n",
      "['Aug-2011', '668179']\n",
      "['Sep-2011', '899906']\n",
      "['Oct-2011', '834719']\n",
      "['Nov-2011', '132003']\n",
      "['Dec-2011', '309978']\n",
      "['Jan-2012', '-755566']\n",
      "['Feb-2012', '1170593']\n",
      "['Mar-2012', '252788']\n",
      "['Apr-2012', '1151518']\n",
      "['May-2012', '817256']\n",
      "['Jun-2012', '570757']\n",
      "['Jul-2012', '506702']\n",
      "['Aug-2012', '-1022534']\n",
      "['Sep-2012', '475062']\n",
      "['Oct-2012', '779976']\n",
      "['Nov-2012', '144175']\n",
      "['Dec-2012', '542494']\n",
      "['Jan-2013', '359333']\n",
      "['Feb-2013', '321469']\n",
      "['Mar-2013', '67780']\n",
      "['Apr-2013', '471435']\n",
      "['May-2013', '565603']\n",
      "['Jun-2013', '872480']\n",
      "['Jul-2013', '789480']\n",
      "['Aug-2013', '999942']\n",
      "['Sep-2013', '-1196225']\n",
      "['Oct-2013', '268997']\n",
      "['Nov-2013', '-687986']\n",
      "['Dec-2013', '1150461']\n",
      "['Jan-2014', '682458']\n",
      "['Feb-2014', '617856']\n",
      "['Mar-2014', '824098']\n",
      "['Apr-2014', '581943']\n",
      "['May-2014', '132864']\n",
      "['Jun-2014', '448062']\n",
      "['Jul-2014', '689161']\n",
      "['Aug-2014', '800701']\n",
      "['Sep-2014', '1166643']\n",
      "['Oct-2014', '947333']\n",
      "['Nov-2014', '578668']\n",
      "['Dec-2014', '988505']\n",
      "['Jan-2015', '1139715']\n",
      "['Feb-2015', '1029471']\n",
      "['Mar-2015', '687533']\n",
      "['Apr-2015', '-524626']\n",
      "['May-2015', '158620']\n",
      "['Jun-2015', '87795']\n",
      "['Jul-2015', '423389']\n",
      "['Aug-2015', '840723']\n",
      "['Sep-2015', '568529']\n",
      "['Oct-2015', '332067']\n",
      "['Nov-2015', '989499']\n",
      "['Dec-2015', '778237']\n",
      "['Jan-2016', '650000']\n",
      "['Feb-2016', '-1100387']\n",
      "['Mar-2016', '-174946']\n",
      "['Apr-2016', '757143']\n",
      "['May-2016', '445709']\n",
      "['Jun-2016', '712961']\n",
      "['Jul-2016', '-1163797']\n",
      "['Aug-2016', '569899']\n",
      "['Sep-2016', '768450']\n",
      "['Oct-2016', '102685']\n",
      "['Nov-2016', '795914']\n",
      "['Dec-2016', '60988']\n",
      "['Jan-2017', '138230']\n",
      "['Feb-2017', '671099']\n"
     ]
    }
   ],
   "source": [
    "months = []\n",
    "PLs = []\n",
    "\n",
    "\n",
    "# Open the input file s a file object\n",
    "\n",
    "with open(csvpath, 'r') as csvfile:\n",
    "    csvreader = csv.reader(csvfile, delimiter=',') \n",
    "        \n",
    "    #Print the datatype of the file object\n",
    "    print(type(csvfile))\n",
    "\n",
    "    # Print the datatype of the csvreader\n",
    "    print(type(csvreader)) \n",
    "\n",
    "    # Go to the next row from the start of the file\n",
    "    header = next(csvreader)\n",
    "    firstrow = next(csvreader) \n",
    "\n",
    "    # Print the header\n",
    "    print(f\"{header} <---- HEADER\")\n",
    "    \n",
    "    # Read each row of data after the header\n",
    "    for row in csvreader:\n",
    "    \n",
    "#Print the row\n",
    "        print(row)\n",
    "        \n",
    "# Set month variable equal to the value in the 2nd column of each row\n",
    "        month = (row[0])\n",
    "    \n",
    "# Append the row month value to the list of months\n",
    "        months.append(month)\n",
    "\n",
    "# Set PL variable equal to the value in the 3rd column of each row\n",
    "        PL = int(row[1])\n",
    "    \n",
    "# Append the row PL value to the list of [PLs\n",
    "        PLs.append(PL)"
   ]
  },
  {
   "cell_type": "code",
   "execution_count": null,
   "metadata": {},
   "outputs": [],
   "source": []
  },
  {
   "cell_type": "code",
   "execution_count": 16,
   "metadata": {},
   "outputs": [],
   "source": [
    "# Initialize metric variables\n",
    "month = 0\n",
    "total_months = 0\n",
    "greatest_increase_PL = 0\n",
    "greatest_decrease_PL = 0\n",
    "avg_PL = 0\n",
    "total_PL = 0\n",
    "count_PL = 0\n",
    "\n",
    "# Calculate the greatest increase and greatest decrease of the list of PLs\n",
    "for PL in PLs:\n",
    "\n",
    "# Sum the total and count variables\n",
    "    total_PL += PL\n",
    "    count_PL += 1\n",
    "\n",
    "# Logic to determine greatest decrease and greatest increase in PL\n",
    "    if greatest_decrease_PL == 0:\n",
    "        greatest_deacrease_PL = PL\n",
    "    elif PL > greatest_increase_PL:\n",
    "        greatest_increase_PL = PL\n",
    "    elif PL < greatest_decrease_PL:\n",
    "        greatest_decrease_PL = PL\n"
   ]
  },
  {
   "cell_type": "code",
   "execution_count": 20,
   "metadata": {},
   "outputs": [],
   "source": [
    "# Calculate the Average Net PL Change\n",
    "net_monthly_avg_PL = round(sum(PLs) / len(PLs),2)\n"
   ]
  },
  {
   "cell_type": "code",
   "execution_count": 31,
   "metadata": {},
   "outputs": [
    {
     "name": "stdout",
     "output_type": "stream",
     "text": [
      "0 0 441349.34\n"
     ]
    }
   ],
   "source": [
    "\n",
    "# Print the metrics\n",
    "print(greatest_increase_PL, greatest_decrease_PL, net_monthly_avg_PL)\n",
    "\n",
    "# Set the output header\n",
    "header = [\"greatest_increase_PL\", \"greatest_decrease_PL\", \"net_monthly_avg_PL\"]\n",
    "\n",
    "# Create a list of metrics\n",
    "metrics = [greatest_increase_PL, greatest_decrease_PL, net_monthly_avg_PL]\n",
    "\n",
    "\n",
    "# Export the results to text fill \n",
    "with open(Path(\"../PyBank/output.txt\"), \"w\") as txt_file:\n",
    "        txt_file.write(f\"Financial Analysis\\n\")\n",
    "        txt_file.write(f\"----------------------------\\n\")\n",
    "        txt_file.write(f\"Total Months: {month+1}\\n\")\n",
    "        txt_file.write(f\"Total: ${PL}\\n\")\n",
    "        txt_file.write(f\"Average  Change: ${net_monthly_avg_PL}n\")\n",
    "        txt_file.write(f\"Greatest Increase in Profits&Losses: {greatest_increase_PL} (${greatest_decrease_PL})\\n\")\n",
    "        txt_file.write(f\"Greatest Decrease in Profits&Losses: {greatest_decrease_PL} (${greatest_decrease_PL})\\n\")          \n",
    "            "
   ]
  },
  {
   "cell_type": "code",
   "execution_count": null,
   "metadata": {},
   "outputs": [],
   "source": []
  },
  {
   "cell_type": "code",
   "execution_count": null,
   "metadata": {},
   "outputs": [],
   "source": []
  },
  {
   "cell_type": "code",
   "execution_count": null,
   "metadata": {},
   "outputs": [],
   "source": []
  }
 ],
 "metadata": {
  "kernelspec": {
   "display_name": "Python 3",
   "language": "python",
   "name": "python3"
  },
  "language_info": {
   "codemirror_mode": {
    "name": "ipython",
    "version": 3
   },
   "file_extension": ".py",
   "mimetype": "text/x-python",
   "name": "python",
   "nbconvert_exporter": "python",
   "pygments_lexer": "ipython3",
   "version": "3.7.7"
  }
 },
 "nbformat": 4,
 "nbformat_minor": 4
}
